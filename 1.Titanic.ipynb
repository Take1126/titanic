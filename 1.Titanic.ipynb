{
 "cells": [
  {
   "cell_type": "code",
   "execution_count": 6,
   "metadata": {},
   "outputs": [
    {
     "name": "stdout",
     "output_type": "stream",
     "text": [
      "<class 'pandas.core.frame.DataFrame'>\n",
      "RangeIndex: 1309 entries, 0 to 1308\n",
      "Data columns (total 12 columns):\n",
      " #   Column       Non-Null Count  Dtype  \n",
      "---  ------       --------------  -----  \n",
      " 0   PassengerId  1309 non-null   int64  \n",
      " 1   Survived     891 non-null    float64\n",
      " 2   Pclass       1309 non-null   int64  \n",
      " 3   Name         1309 non-null   object \n",
      " 4   Sex          1309 non-null   object \n",
      " 5   Age          1046 non-null   float64\n",
      " 6   SibSp        1309 non-null   int64  \n",
      " 7   Parch        1309 non-null   int64  \n",
      " 8   Ticket       1309 non-null   object \n",
      " 9   Fare         1308 non-null   float64\n",
      " 10  Cabin        295 non-null    object \n",
      " 11  Embarked     1307 non-null   object \n",
      "dtypes: float64(3), int64(4), object(5)\n",
      "memory usage: 122.8+ KB\n"
     ]
    },
    {
     "data": {
      "image/png": "[encoded data removed]",
      "text/plain": [
       "<Figure size 432x288 with 1 Axes>"
      ]
     },
     "metadata": {
      "needs_background": "light"
     },
     "output_type": "display_data"
    }
   ],
   "source": [
    "import numpy as np\n",
    "import pandas as pd\n",
    "import matplotlib.pyplot as plt\n",
    "import seaborn as sns\n",
    "\n",
    "# データセットの読み込み\n",
    "train_data = pd.read_csv('./train.csv')\n",
    "test_data = pd.read_csv('./test.csv')\n",
    "\n",
    "# train_dataとtest_dataの連結\n",
    "test_data['Survived'] = np.nan\n",
    "df = pd.concat([train_data, test_data], ignore_index=True, sort=False)\n",
    "\n",
    "# dfの情報\n",
    "df.info()\n",
    "\n",
    "# Sexと生存率の関係 \n",
    "sns.barplot(x='Sex', y='Survived', data=df, palette='Set3')\n",
    "plt.show()"
   ]
  },
  {
   "cell_type": "code",
   "execution_count": 7,
   "metadata": {},
   "outputs": [
    {
     "data": {
      "image/png": "[encoded data removed]",
      "text/plain": [
       "<Figure size 484x216 with 1 Axes>"
      ]
     },
     "metadata": {
      "needs_background": "light"
     },
     "output_type": "display_data"
    }
   ],
   "source": [
    "# ------------ Age ------------\n",
    "# Age を Pclass, Sex, Parch, SibSp からランダムフォレストで推定\n",
    "from sklearn.ensemble import RandomForestRegressor\n",
    "\n",
    "# 推定に使用する項目を指定\n",
    "age_df = df[['Age', 'Pclass','Sex','Parch','SibSp']]\n",
    "\n",
    "# ラベル特徴量をワンホットエンコーディング\n",
    "age_df=pd.get_dummies(age_df)\n",
    "\n",
    "# 学習データとテストデータに分離し、numpyに変換\n",
    "known_age = age_df[age_df.Age.notnull()].values  \n",
    "unknown_age = age_df[age_df.Age.isnull()].values\n",
    "\n",
    "# 学習データをX, yに分離\n",
    "X = known_age[:, 1:]  \n",
    "y = known_age[:, 0]\n",
    "\n",
    "# ランダムフォレストで推定モデルを構築\n",
    "rfr = RandomForestRegressor(random_state=0, n_estimators=100, n_jobs=-1)\n",
    "rfr.fit(X, y)\n",
    "\n",
    "# 推定モデルを使って、テストデータのAgeを予測し、補完\n",
    "predictedAges = rfr.predict(unknown_age[:, 1::])\n",
    "df.loc[(df.Age.isnull()), 'Age'] = predictedAges \n",
    "\n",
    "# 年齢別生存曲線と死亡曲線\n",
    "facet = sns.FacetGrid(df[0:890], hue=\"Survived\",aspect=2)\n",
    "facet.map(sns.kdeplot,'Age',shade= True)\n",
    "facet.set(xlim=(0, df.loc[0:890,'Age'].max()))\n",
    "facet.add_legend()\n",
    "plt.show()"
   ]
  },
  {
   "cell_type": "code",
   "execution_count": 8,
   "metadata": {},
   "outputs": [
    {
     "data": {
      "text/plain": [
       "<AxesSubplot:xlabel='Title', ylabel='Survived'>"
      ]
     },
     "execution_count": 8,
     "metadata": {},
     "output_type": "execute_result"
    },
    {
     "data": {
      "image/png": "[encoded data removed]",
      "text/plain": [
       "<Figure size 432x288 with 1 Axes>"
      ]
     },
     "metadata": {
      "needs_background": "light"
     },
     "output_type": "display_data"
    }
   ],
   "source": [
    "# ------------ Name --------------\n",
    "# Nameから敬称(Title)を抽出し、グルーピング\n",
    "df['Title'] = df['Name'].map(lambda x: x.split(', ')[1].split('. ')[0])\n",
    "df['Title'].replace(['Capt', 'Col', 'Major', 'Dr', 'Rev'], 'Officer', inplace=True)\n",
    "df['Title'].replace(['Don', 'Sir',  'the Countess', 'Lady', 'Dona'], 'Royalty', inplace=True)\n",
    "df['Title'].replace(['Mme', 'Ms'], 'Mrs', inplace=True)\n",
    "df['Title'].replace(['Mlle'], 'Miss', inplace=True)\n",
    "df['Title'].replace(['Jonkheer'], 'Master', inplace=True)\n",
    "sns.barplot(x='Title', y='Survived', data=df, palette='Set3')"
   ]
  },
  {
   "cell_type": "code",
   "execution_count": 9,
   "metadata": {},
   "outputs": [],
   "source": [
    "# ------------ Surname ------------\n",
    "# NameからSurname(苗字)を抽出\n",
    "df['Surname'] = df['Name'].map(lambda name:name.split(',')[0].strip())\n",
    "\n",
    "# 同じSurname(苗字)の出現頻度をカウント(出現回数が2以上なら家族)\n",
    "df['FamilyGroup'] = df['Surname'].map(df['Surname'].value_counts()) "
   ]
  },
  {
   "cell_type": "code",
   "execution_count": 10,
   "metadata": {},
   "outputs": [
    {
     "name": "stdout",
     "output_type": "stream",
     "text": [
      "1.000000    113\n",
      "0.000000     32\n",
      "0.750000      2\n",
      "0.333333      1\n",
      "0.142857      1\n",
      "0.500000      1\n",
      "Name: Survived, dtype: int64\n"
     ]
    }
   ],
   "source": [
    "# 家族で16才以下または女性の生存率\n",
    "Female_Child_Group=df.loc[(df['FamilyGroup']>=2) & ((df['Age']<=16) | (df['Sex']=='female'))]\n",
    "Female_Child_Group=Female_Child_Group.groupby('Surname')['Survived'].mean()\n",
    "print(Female_Child_Group.value_counts())"
   ]
  },
  {
   "cell_type": "code",
   "execution_count": 11,
   "metadata": {},
   "outputs": [
    {
     "name": "stdout",
     "output_type": "stream",
     "text": [
      "0.000000    115\n",
      "1.000000     21\n",
      "0.500000      6\n",
      "0.333333      2\n",
      "0.250000      1\n",
      "Name: Survived, dtype: int64\n"
     ]
    }
   ],
   "source": [
    "# 家族で16才超えかつ男性の生存率\n",
    "Male_Adult_Group=df.loc[(df['FamilyGroup']>=2) & (df['Age']>16) & (df['Sex']=='male')]\n",
    "Male_Adult_List=Male_Adult_Group.groupby('Surname')['Survived'].mean()\n",
    "print(Male_Adult_List.value_counts())"
   ]
  },
  {
   "cell_type": "code",
   "execution_count": 12,
   "metadata": {},
   "outputs": [
    {
     "name": "stdout",
     "output_type": "stream",
     "text": [
      "Dead_list =  {'Attalah', 'Elias', 'Vander Planke', 'Danbom', 'Robins', 'Ford', 'Lahtinen', 'Lefebre', 'Jussila', 'Boulos', 'Canavan', 'Johnston', 'Skoog', 'Goodwin', 'Lobb', 'Ilmakangas', 'Palsson', 'Bourke', 'Panula', 'Arnold-Franchi', 'Cacic', 'Rosblom', 'Turpin', 'Strom', 'Olsson', 'Rice', 'Van Impe', 'Oreskovic', 'Sage', 'Zabour', 'Barbara', 'Caram'}\n",
      "Survived_list =  {'Nakid', 'Cardeza', 'Greenfield', 'Frolicher-Stehli', 'Jussila', 'Goldenberg', 'McCoy', 'Dick', 'Beckwith', 'Moubarek', 'Jonsson', 'Duff Gordon', 'Kimball', 'Chambers', 'Bishop', 'Daly', 'Frauenthal', 'Taylor', 'Bradley', 'Harder', 'Beane'}\n"
     ]
    }
   ],
   "source": [
    "# デッドリストとサバイブリストの作成\n",
    "Dead_list=set(Female_Child_Group[Female_Child_Group.apply(lambda x:x==0)].index)\n",
    "Survived_list=set(Male_Adult_List[Male_Adult_List.apply(lambda x:x==1)].index)\n",
    "\n",
    "# デッドリストとサバイブリストの表示\n",
    "print('Dead_list = ', Dead_list)\n",
    "print('Survived_list = ', Survived_list)\n",
    "\n",
    "# デッドリストとサバイブリストをSex, Age, Title に反映させる\n",
    "df.loc[(df['Survived'].isnull()) & (df['Surname'].apply(lambda x:x in Dead_list)),\\\n",
    "             ['Sex','Age','Title']] = ['male',28.0,'Mr']\n",
    "df.loc[(df['Survived'].isnull()) & (df['Surname'].apply(lambda x:x in Survived_list)),\\\n",
    "             ['Sex','Age','Title']] = ['female',5.0,'Mrs']"
   ]
  },
  {
   "cell_type": "code",
   "execution_count": 13,
   "metadata": {},
   "outputs": [],
   "source": [
    "# ----------- Fare -------------\n",
    "# 欠損値を Embarked='S', Pclass=3 の平均値で補完\n",
    "fare=df.loc[(df['Embarked'] == 'S') & (df['Pclass'] == 3), 'Fare'].median()\n",
    "df['Fare']=df['Fare'].fillna(fare)"
   ]
  },
  {
   "cell_type": "code",
   "execution_count": 14,
   "metadata": {},
   "outputs": [],
   "source": [
    "# ----------- Family -------------\n",
    "# Family = SibSp + Parch + 1 を特徴量とし、グルーピング\n",
    "df['Family']=df['SibSp']+df['Parch']+1\n",
    "df.loc[(df['Family']>=2) & (df['Family']<=4), 'Family_label'] = 2\n",
    "df.loc[(df['Family']>=5) & (df['Family']<=7) | (df['Family']==1), 'Family_label'] = 1  # == に注意\n",
    "df.loc[(df['Family']>=8), 'Family_label'] = 0"
   ]
  },
  {
   "cell_type": "code",
   "execution_count": 15,
   "metadata": {},
   "outputs": [
    {
     "data": {
      "image/png": "[encoded data removed]",
      "text/plain": [
       "<Figure size 432x288 with 1 Axes>"
      ]
     },
     "metadata": {
      "needs_background": "light"
     },
     "output_type": "display_data"
    }
   ],
   "source": [
    "# ----------- Ticket ----------------\n",
    "# 同一Ticketナンバーの人が何人いるかを特徴量として抽出\n",
    "Ticket_Count = dict(df['Ticket'].value_counts())\n",
    "df['TicketGroup'] = df['Ticket'].map(Ticket_Count)\n",
    "sns.barplot(x='TicketGroup', y='Survived', data=df, palette='Set3')\n",
    "plt.show()"
   ]
  },
  {
   "cell_type": "code",
   "execution_count": 16,
   "metadata": {},
   "outputs": [
    {
     "data": {
      "image/png": "[encoded data removed]",
      "text/plain": [
       "<Figure size 432x288 with 1 Axes>"
      ]
     },
     "metadata": {
      "needs_background": "light"
     },
     "output_type": "display_data"
    }
   ],
   "source": [
    "# 生存率で3つにグルーピング\n",
    "df.loc[(df['TicketGroup']>=2) & (df['TicketGroup']<=4), 'Ticket_label'] = 2\n",
    "df.loc[(df['TicketGroup']>=5) & (df['TicketGroup']<=8) | (df['TicketGroup']==1), 'Ticket_label'] = 1  \n",
    "df.loc[(df['TicketGroup']>=11), 'Ticket_label'] = 0\n",
    "sns.barplot(x='Ticket_label', y='Survived', data=df, palette='Set3')\n",
    "plt.show()"
   ]
  },
  {
   "cell_type": "code",
   "execution_count": 17,
   "metadata": {},
   "outputs": [
    {
     "data": {
      "image/png": "[encoded data removed]",
      "text/plain": [
       "<Figure size 432x288 with 1 Axes>"
      ]
     },
     "metadata": {
      "needs_background": "light"
     },
     "output_type": "display_data"
    }
   ],
   "source": [
    "# ------------- Cabin ----------------\n",
    "# Cabinの先頭文字を特徴量とする(欠損値は U )\n",
    "df['Cabin'] = df['Cabin'].fillna('Unknown')\n",
    "df['Cabin_label']=df['Cabin'].str.get(0)\n",
    "sns.barplot(x='Cabin_label', y='Survived', data=df, palette='Set3')\n",
    "plt.show()"
   ]
  },
  {
   "cell_type": "code",
   "execution_count": 18,
   "metadata": {},
   "outputs": [],
   "source": [
    "# ---------- Embarked ---------------\n",
    "# 欠損値をSで補完\n",
    "df['Embarked'] = df['Embarked'].fillna('S') "
   ]
  },
  {
   "cell_type": "code",
   "execution_count": 19,
   "metadata": {},
   "outputs": [],
   "source": [
    "# ------------- 前処理 ---------------\n",
    "# 推定に使用する項目を指定\n",
    "df = df[['Survived','Pclass','Sex','Age','Fare','Embarked','Title','Family_label','Cabin_label','Ticket_label']]\n",
    "\n",
    "# ラベル特徴量をワンホットエンコーディング\n",
    "df = pd.get_dummies(df)\n",
    "\n",
    "# データセットを trainとtestに分割\n",
    "train = df[df['Survived'].notnull()]\n",
    "test = df[df['Survived'].isnull()].drop('Survived',axis=1)\n",
    "\n",
    "# データフレームをnumpyに変換\n",
    "X = train.values[:,1:]  \n",
    "y = train.values[:,0] \n",
    "test_x = test.values"
   ]
  },
  {
   "cell_type": "code",
   "execution_count": 20,
   "metadata": {},
   "outputs": [
    {
     "name": "stderr",
     "output_type": "stream",
     "text": [
      "/Users/takeuchihiroki/.pyenv/versions/anaconda3-5.2.0/envs/Analysis/lib/python3.8/site-packages/sklearn/feature_selection/_univariate_selection.py:114: UserWarning: Features [23] are constant.\n",
      "  warnings.warn(\"Features %s are constant.\" % constant_features_idx,\n",
      "/Users/takeuchihiroki/.pyenv/versions/anaconda3-5.2.0/envs/Analysis/lib/python3.8/site-packages/sklearn/feature_selection/_univariate_selection.py:116: RuntimeWarning: invalid value encountered in true_divide\n",
      "  f = msb / msw\n"
     ]
    },
    {
     "name": "stdout",
     "output_type": "stream",
     "text": [
      "mean_score =  0.8395006242197255\n",
      "mean_std =  0.049770983038016456\n"
     ]
    }
   ],
   "source": [
    "# ----------- 推定モデル構築 ---------------\n",
    "from sklearn.feature_selection import SelectKBest\n",
    "from sklearn.ensemble import RandomForestClassifier\n",
    "from sklearn.pipeline import make_pipeline\n",
    "from sklearn.model_selection import cross_validate\n",
    "\n",
    "# 採用する特徴量を25個から20個に絞り込む\n",
    "select = SelectKBest(k = 20)\n",
    "\n",
    "clf = RandomForestClassifier(random_state = 10, \n",
    "                             warm_start = True,  # 既にフィットしたモデルに学習を追加 \n",
    "                             n_estimators = 26,\n",
    "                             max_depth = 6, \n",
    "                             max_features = 'sqrt')\n",
    "pipeline = make_pipeline(select, clf)\n",
    "pipeline.fit(X, y)\n",
    "\n",
    "# フィット結果の表示\n",
    "cv_result = cross_validate(pipeline, X, y, cv= 10)\n",
    "print('mean_score = ', np.mean(cv_result['test_score']))\n",
    "print('mean_std = ', np.std(cv_result['test_score']))"
   ]
  },
  {
   "cell_type": "code",
   "execution_count": 21,
   "metadata": {},
   "outputs": [
    {
     "name": "stdout",
     "output_type": "stream",
     "text": [
      "No1 Pclass = True\n",
      "No2 Age = True\n",
      "No3 Fare = True\n",
      "No4 Family_label = True\n",
      "No5 Ticket_label = True\n",
      "No6 Sex_female = True\n",
      "No7 Sex_male = True\n",
      "No8 Embarked_C = True\n",
      "No9 Embarked_Q = False\n",
      "No10 Embarked_S = True\n",
      "No11 Title_Master = True\n",
      "No12 Title_Miss = True\n",
      "No13 Title_Mr = True\n",
      "No14 Title_Mrs = True\n",
      "No15 Title_Officer = False\n",
      "No16 Title_Royalty = True\n",
      "No17 Cabin_label_A = False\n",
      "No18 Cabin_label_B = True\n",
      "No19 Cabin_label_C = True\n",
      "No20 Cabin_label_D = True\n",
      "No21 Cabin_label_E = True\n",
      "No22 Cabin_label_F = True\n",
      "No23 Cabin_label_G = False\n",
      "No24 Cabin_label_T = False\n",
      "No25 Cabin_label_U = True\n",
      "X.shape=(891, 25), X_selected.shape=(891, 20)\n"
     ]
    }
   ],
   "source": [
    "# --------　採用した特徴量 ---------------\n",
    "# 採用の可否状況\n",
    "mask= select.get_support()\n",
    "\n",
    "# 項目のリスト\n",
    "list_col = list(df.columns[1:])\n",
    "\n",
    "# 項目別の採用可否の一覧表\n",
    "for i, j in enumerate(list_col):\n",
    "    print('No'+str(i+1), j,'=',  mask[i])\n",
    "\n",
    "# シェイプの確認\n",
    "X_selected = select.transform(X)\n",
    "print('X.shape={}, X_selected.shape={}'.format(X.shape, X_selected.shape))"
   ]
  },
  {
   "cell_type": "code",
   "execution_count": 22,
   "metadata": {},
   "outputs": [],
   "source": [
    "# ----- Submit dataの作成　------- \n",
    "PassengerId=test_data['PassengerId']\n",
    "predictions = pipeline.predict(test_x)\n",
    "submission = pd.DataFrame({\"PassengerId\": PassengerId, \"Survived\": predictions.astype(np.int32)})\n",
    "submission.to_csv(\"my_submission.csv\", index=False)"
   ]
  },
  {
   "cell_type": "code",
   "execution_count": null,
   "metadata": {},
   "outputs": [],
   "source": []
  }
 ],
 "metadata": {
  "kernelspec": {
   "display_name": "Python 3",
   "language": "python",
   "name": "python3"
  },
  "language_info": {
   "codemirror_mode": {
    "name": "ipython",
    "version": 3
   },
   "file_extension": ".py",
   "mimetype": "text/x-python",
   "name": "python",
   "nbconvert_exporter": "python",
   "pygments_lexer": "ipython3",
   "version": "3.8.5"
  }
 },
 "nbformat": 4,
 "nbformat_minor": 4
}
